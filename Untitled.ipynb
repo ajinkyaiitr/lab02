{
 "cells": [
  {
   "cell_type": "code",
   "execution_count": 1,
   "metadata": {},
   "outputs": [],
   "source": [
    "import numpy as np\n",
    "import pandas as pd"
   ]
  },
  {
   "cell_type": "code",
   "execution_count": 6,
   "metadata": {},
   "outputs": [],
   "source": [
    "data = pd.read_csv('SAMPLE_1.csv')\n"
   ]
  },
  {
   "cell_type": "code",
   "execution_count": 7,
   "metadata": {},
   "outputs": [
    {
     "data": {
      "text/html": [
       "<div>\n",
       "<style scoped>\n",
       "    .dataframe tbody tr th:only-of-type {\n",
       "        vertical-align: middle;\n",
       "    }\n",
       "\n",
       "    .dataframe tbody tr th {\n",
       "        vertical-align: top;\n",
       "    }\n",
       "\n",
       "    .dataframe thead th {\n",
       "        text-align: right;\n",
       "    }\n",
       "</style>\n",
       "<table border=\"1\" class=\"dataframe\">\n",
       "  <thead>\n",
       "    <tr style=\"text-align: right;\">\n",
       "      <th></th>\n",
       "      <th>GEO_ID</th>\n",
       "      <th>NAME</th>\n",
       "      <th>DP05_0031PM</th>\n",
       "      <th>DP05_0032E</th>\n",
       "      <th>DP05_0032M</th>\n",
       "      <th>DP05_0032PE</th>\n",
       "      <th>DP05_0032PM</th>\n",
       "      <th>DP05_0033E</th>\n",
       "      <th>DP05_0033M</th>\n",
       "      <th>DP05_0033PE</th>\n",
       "      <th>...</th>\n",
       "      <th>DP05_0029M</th>\n",
       "      <th>DP05_0029PE</th>\n",
       "      <th>DP05_0029PM</th>\n",
       "      <th>DP05_0030E</th>\n",
       "      <th>DP05_0030M</th>\n",
       "      <th>DP05_0030PE</th>\n",
       "      <th>DP05_0030PM</th>\n",
       "      <th>DP05_0031E</th>\n",
       "      <th>DP05_0031M</th>\n",
       "      <th>DP05_0031PE</th>\n",
       "    </tr>\n",
       "  </thead>\n",
       "  <tbody>\n",
       "    <tr>\n",
       "      <td>0</td>\n",
       "      <td>id</td>\n",
       "      <td>Geographic Area Name</td>\n",
       "      <td>Percent Margin of Error!!SEX AND AGE!!Total po...</td>\n",
       "      <td>Estimate!!SEX AND AGE!!Total population!!65 ye...</td>\n",
       "      <td>Margin of Error!!SEX AND AGE!!Total population...</td>\n",
       "      <td>Percent Estimate!!SEX AND AGE!!Total populatio...</td>\n",
       "      <td>Percent Margin of Error!!SEX AND AGE!!Total po...</td>\n",
       "      <td>Estimate!!RACE!!Total population</td>\n",
       "      <td>Margin of Error!!RACE!!Total population</td>\n",
       "      <td>Percent Estimate!!RACE!!Total population</td>\n",
       "      <td>...</td>\n",
       "      <td>Margin of Error!!SEX AND AGE!!Total population...</td>\n",
       "      <td>Percent Estimate!!SEX AND AGE!!Total populatio...</td>\n",
       "      <td>Percent Margin of Error!!SEX AND AGE!!Total po...</td>\n",
       "      <td>Estimate!!SEX AND AGE!!Total population!!65 ye...</td>\n",
       "      <td>Margin of Error!!SEX AND AGE!!Total population...</td>\n",
       "      <td>Percent Estimate!!SEX AND AGE!!Total populatio...</td>\n",
       "      <td>Percent Margin of Error!!SEX AND AGE!!Total po...</td>\n",
       "      <td>Estimate!!SEX AND AGE!!Total population!!65 ye...</td>\n",
       "      <td>Margin of Error!!SEX AND AGE!!Total population...</td>\n",
       "      <td>Percent Estimate!!SEX AND AGE!!Total populatio...</td>\n",
       "    </tr>\n",
       "    <tr>\n",
       "      <td>1</td>\n",
       "      <td>0100000US</td>\n",
       "      <td>United States</td>\n",
       "      <td>0.1</td>\n",
       "      <td>79.3</td>\n",
       "      <td>0.1</td>\n",
       "      <td>(X)</td>\n",
       "      <td>(X)</td>\n",
       "      <td>322903030</td>\n",
       "      <td>*****</td>\n",
       "      <td>322903030</td>\n",
       "      <td>...</td>\n",
       "      <td>5463</td>\n",
       "      <td>49238581</td>\n",
       "      <td>(X)</td>\n",
       "      <td>21781300</td>\n",
       "      <td>3215</td>\n",
       "      <td>44.2</td>\n",
       "      <td>0.1</td>\n",
       "      <td>27457281</td>\n",
       "      <td>3635</td>\n",
       "      <td>55.8</td>\n",
       "    </tr>\n",
       "  </tbody>\n",
       "</table>\n",
       "<p>2 rows × 358 columns</p>\n",
       "</div>"
      ],
      "text/plain": [
       "      GEO_ID                  NAME  \\\n",
       "0         id  Geographic Area Name   \n",
       "1  0100000US         United States   \n",
       "\n",
       "                                         DP05_0031PM  \\\n",
       "0  Percent Margin of Error!!SEX AND AGE!!Total po...   \n",
       "1                                                0.1   \n",
       "\n",
       "                                          DP05_0032E  \\\n",
       "0  Estimate!!SEX AND AGE!!Total population!!65 ye...   \n",
       "1                                               79.3   \n",
       "\n",
       "                                          DP05_0032M  \\\n",
       "0  Margin of Error!!SEX AND AGE!!Total population...   \n",
       "1                                                0.1   \n",
       "\n",
       "                                         DP05_0032PE  \\\n",
       "0  Percent Estimate!!SEX AND AGE!!Total populatio...   \n",
       "1                                                (X)   \n",
       "\n",
       "                                         DP05_0032PM  \\\n",
       "0  Percent Margin of Error!!SEX AND AGE!!Total po...   \n",
       "1                                                (X)   \n",
       "\n",
       "                         DP05_0033E                               DP05_0033M  \\\n",
       "0  Estimate!!RACE!!Total population  Margin of Error!!RACE!!Total population   \n",
       "1                         322903030                                    *****   \n",
       "\n",
       "                                DP05_0033PE  ...  \\\n",
       "0  Percent Estimate!!RACE!!Total population  ...   \n",
       "1                                 322903030  ...   \n",
       "\n",
       "                                          DP05_0029M  \\\n",
       "0  Margin of Error!!SEX AND AGE!!Total population...   \n",
       "1                                               5463   \n",
       "\n",
       "                                         DP05_0029PE  \\\n",
       "0  Percent Estimate!!SEX AND AGE!!Total populatio...   \n",
       "1                                           49238581   \n",
       "\n",
       "                                         DP05_0029PM  \\\n",
       "0  Percent Margin of Error!!SEX AND AGE!!Total po...   \n",
       "1                                                (X)   \n",
       "\n",
       "                                          DP05_0030E  \\\n",
       "0  Estimate!!SEX AND AGE!!Total population!!65 ye...   \n",
       "1                                           21781300   \n",
       "\n",
       "                                          DP05_0030M  \\\n",
       "0  Margin of Error!!SEX AND AGE!!Total population...   \n",
       "1                                               3215   \n",
       "\n",
       "                                         DP05_0030PE  \\\n",
       "0  Percent Estimate!!SEX AND AGE!!Total populatio...   \n",
       "1                                               44.2   \n",
       "\n",
       "                                         DP05_0030PM  \\\n",
       "0  Percent Margin of Error!!SEX AND AGE!!Total po...   \n",
       "1                                                0.1   \n",
       "\n",
       "                                          DP05_0031E  \\\n",
       "0  Estimate!!SEX AND AGE!!Total population!!65 ye...   \n",
       "1                                           27457281   \n",
       "\n",
       "                                          DP05_0031M  \\\n",
       "0  Margin of Error!!SEX AND AGE!!Total population...   \n",
       "1                                               3635   \n",
       "\n",
       "                                         DP05_0031PE  \n",
       "0  Percent Estimate!!SEX AND AGE!!Total populatio...  \n",
       "1                                               55.8  \n",
       "\n",
       "[2 rows x 358 columns]"
      ]
     },
     "execution_count": 7,
     "metadata": {},
     "output_type": "execute_result"
    }
   ],
   "source": [
    "data"
   ]
  },
  {
   "cell_type": "code",
   "execution_count": 8,
   "metadata": {},
   "outputs": [
    {
     "data": {
      "text/plain": [
       "pandas.core.frame.DataFrame"
      ]
     },
     "execution_count": 8,
     "metadata": {},
     "output_type": "execute_result"
    }
   ],
   "source": [
    "type(data)"
   ]
  },
  {
   "cell_type": "code",
   "execution_count": 9,
   "metadata": {},
   "outputs": [
    {
     "data": {
      "text/plain": [
       "Index(['GEO_ID', 'NAME', 'DP05_0031PM', 'DP05_0032E', 'DP05_0032M',\n",
       "       'DP05_0032PE', 'DP05_0032PM', 'DP05_0033E', 'DP05_0033M', 'DP05_0033PE',\n",
       "       ...\n",
       "       'DP05_0029M', 'DP05_0029PE', 'DP05_0029PM', 'DP05_0030E', 'DP05_0030M',\n",
       "       'DP05_0030PE', 'DP05_0030PM', 'DP05_0031E', 'DP05_0031M',\n",
       "       'DP05_0031PE'],\n",
       "      dtype='object', length=358)"
      ]
     },
     "execution_count": 9,
     "metadata": {},
     "output_type": "execute_result"
    }
   ],
   "source": [
    "#How to get column name\n",
    "data.columns\n",
    "\n",
    "#How to get number of rows and columns\n",
    "data.shape\n",
    "\n",
    "#How to select rows\n",
    "\n",
    "\n",
    "#How to select columns\n",
    "\n",
    "\n",
    "#How to select rows with criteria\n"
   ]
  },
  {
   "cell_type": "code",
   "execution_count": 10,
   "metadata": {},
   "outputs": [
    {
     "data": {
      "text/plain": [
       "(2, 358)"
      ]
     },
     "execution_count": 10,
     "metadata": {},
     "output_type": "execute_result"
    }
   ],
   "source": [
    "data.shape\n"
   ]
  },
  {
   "cell_type": "code",
   "execution_count": 16,
   "metadata": {},
   "outputs": [
    {
     "data": {
      "text/html": [
       "<div>\n",
       "<style scoped>\n",
       "    .dataframe tbody tr th:only-of-type {\n",
       "        vertical-align: middle;\n",
       "    }\n",
       "\n",
       "    .dataframe tbody tr th {\n",
       "        vertical-align: top;\n",
       "    }\n",
       "\n",
       "    .dataframe thead th {\n",
       "        text-align: right;\n",
       "    }\n",
       "</style>\n",
       "<table border=\"1\" class=\"dataframe\">\n",
       "  <thead>\n",
       "    <tr style=\"text-align: right;\">\n",
       "      <th></th>\n",
       "      <th>GEO_ID</th>\n",
       "      <th>NAME</th>\n",
       "      <th>DP05_0031PM</th>\n",
       "      <th>DP05_0032E</th>\n",
       "      <th>DP05_0032M</th>\n",
       "      <th>DP05_0032PE</th>\n",
       "      <th>DP05_0032PM</th>\n",
       "      <th>DP05_0033E</th>\n",
       "      <th>DP05_0033M</th>\n",
       "      <th>DP05_0033PE</th>\n",
       "      <th>...</th>\n",
       "      <th>DP05_0029M</th>\n",
       "      <th>DP05_0029PE</th>\n",
       "      <th>DP05_0029PM</th>\n",
       "      <th>DP05_0030E</th>\n",
       "      <th>DP05_0030M</th>\n",
       "      <th>DP05_0030PE</th>\n",
       "      <th>DP05_0030PM</th>\n",
       "      <th>DP05_0031E</th>\n",
       "      <th>DP05_0031M</th>\n",
       "      <th>DP05_0031PE</th>\n",
       "    </tr>\n",
       "  </thead>\n",
       "  <tbody>\n",
       "    <tr>\n",
       "      <td>0</td>\n",
       "      <td>id</td>\n",
       "      <td>Geographic Area Name</td>\n",
       "      <td>Percent Margin of Error!!SEX AND AGE!!Total po...</td>\n",
       "      <td>Estimate!!SEX AND AGE!!Total population!!65 ye...</td>\n",
       "      <td>Margin of Error!!SEX AND AGE!!Total population...</td>\n",
       "      <td>Percent Estimate!!SEX AND AGE!!Total populatio...</td>\n",
       "      <td>Percent Margin of Error!!SEX AND AGE!!Total po...</td>\n",
       "      <td>Estimate!!RACE!!Total population</td>\n",
       "      <td>Margin of Error!!RACE!!Total population</td>\n",
       "      <td>Percent Estimate!!RACE!!Total population</td>\n",
       "      <td>...</td>\n",
       "      <td>Margin of Error!!SEX AND AGE!!Total population...</td>\n",
       "      <td>Percent Estimate!!SEX AND AGE!!Total populatio...</td>\n",
       "      <td>Percent Margin of Error!!SEX AND AGE!!Total po...</td>\n",
       "      <td>Estimate!!SEX AND AGE!!Total population!!65 ye...</td>\n",
       "      <td>Margin of Error!!SEX AND AGE!!Total population...</td>\n",
       "      <td>Percent Estimate!!SEX AND AGE!!Total populatio...</td>\n",
       "      <td>Percent Margin of Error!!SEX AND AGE!!Total po...</td>\n",
       "      <td>Estimate!!SEX AND AGE!!Total population!!65 ye...</td>\n",
       "      <td>Margin of Error!!SEX AND AGE!!Total population...</td>\n",
       "      <td>Percent Estimate!!SEX AND AGE!!Total populatio...</td>\n",
       "    </tr>\n",
       "  </tbody>\n",
       "</table>\n",
       "<p>1 rows × 358 columns</p>\n",
       "</div>"
      ],
      "text/plain": [
       "  GEO_ID                  NAME  \\\n",
       "0     id  Geographic Area Name   \n",
       "\n",
       "                                         DP05_0031PM  \\\n",
       "0  Percent Margin of Error!!SEX AND AGE!!Total po...   \n",
       "\n",
       "                                          DP05_0032E  \\\n",
       "0  Estimate!!SEX AND AGE!!Total population!!65 ye...   \n",
       "\n",
       "                                          DP05_0032M  \\\n",
       "0  Margin of Error!!SEX AND AGE!!Total population...   \n",
       "\n",
       "                                         DP05_0032PE  \\\n",
       "0  Percent Estimate!!SEX AND AGE!!Total populatio...   \n",
       "\n",
       "                                         DP05_0032PM  \\\n",
       "0  Percent Margin of Error!!SEX AND AGE!!Total po...   \n",
       "\n",
       "                         DP05_0033E                               DP05_0033M  \\\n",
       "0  Estimate!!RACE!!Total population  Margin of Error!!RACE!!Total population   \n",
       "\n",
       "                                DP05_0033PE  ...  \\\n",
       "0  Percent Estimate!!RACE!!Total population  ...   \n",
       "\n",
       "                                          DP05_0029M  \\\n",
       "0  Margin of Error!!SEX AND AGE!!Total population...   \n",
       "\n",
       "                                         DP05_0029PE  \\\n",
       "0  Percent Estimate!!SEX AND AGE!!Total populatio...   \n",
       "\n",
       "                                         DP05_0029PM  \\\n",
       "0  Percent Margin of Error!!SEX AND AGE!!Total po...   \n",
       "\n",
       "                                          DP05_0030E  \\\n",
       "0  Estimate!!SEX AND AGE!!Total population!!65 ye...   \n",
       "\n",
       "                                          DP05_0030M  \\\n",
       "0  Margin of Error!!SEX AND AGE!!Total population...   \n",
       "\n",
       "                                         DP05_0030PE  \\\n",
       "0  Percent Estimate!!SEX AND AGE!!Total populatio...   \n",
       "\n",
       "                                         DP05_0030PM  \\\n",
       "0  Percent Margin of Error!!SEX AND AGE!!Total po...   \n",
       "\n",
       "                                          DP05_0031E  \\\n",
       "0  Estimate!!SEX AND AGE!!Total population!!65 ye...   \n",
       "\n",
       "                                          DP05_0031M  \\\n",
       "0  Margin of Error!!SEX AND AGE!!Total population...   \n",
       "\n",
       "                                         DP05_0031PE  \n",
       "0  Percent Estimate!!SEX AND AGE!!Total populatio...  \n",
       "\n",
       "[1 rows x 358 columns]"
      ]
     },
     "execution_count": 16,
     "metadata": {},
     "output_type": "execute_result"
    }
   ],
   "source": [
    "data.iloc[0]"
   ]
  },
  {
   "cell_type": "code",
   "execution_count": 21,
   "metadata": {},
   "outputs": [
    {
     "data": {
      "text/plain": [
       "0    Percent Margin of Error!!RACE!!Total population\n",
       "1                                                (X)\n",
       "Name: DP05_0033PM, dtype: object"
      ]
     },
     "execution_count": 21,
     "metadata": {},
     "output_type": "execute_result"
    }
   ],
   "source": [
    "data.T.iloc[10]"
   ]
  }
 ],
 "metadata": {
  "kernelspec": {
   "display_name": "Python 3",
   "language": "python",
   "name": "python3"
  },
  "language_info": {
   "codemirror_mode": {
    "name": "ipython",
    "version": 3
   },
   "file_extension": ".py",
   "mimetype": "text/x-python",
   "name": "python",
   "nbconvert_exporter": "python",
   "pygments_lexer": "ipython3",
   "version": "3.6.8"
  },
  "toc": {
   "base_numbering": 1,
   "nav_menu": {},
   "number_sections": true,
   "sideBar": true,
   "skip_h1_title": false,
   "title_cell": "Table of Contents",
   "title_sidebar": "Contents",
   "toc_cell": false,
   "toc_position": {},
   "toc_section_display": true,
   "toc_window_display": false
  }
 },
 "nbformat": 4,
 "nbformat_minor": 2
}
