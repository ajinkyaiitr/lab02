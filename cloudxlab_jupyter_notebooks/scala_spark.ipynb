{
 "cells": [
  {
   "cell_type": "code",
   "execution_count": 46,
   "metadata": {},
   "outputs": [],
   "source": [
    "import java.io._\n",
    "val writer = new PrintWriter(new File(\"New.txt\" ))\n",
    "writer.write(\"Hello Scala\")\n",
    "writer.write(\"\\n\")\n",
    "writer.write(\"Bye Scala\")\n",
    "writer.close()\n",
    ".main(Array())"
   ]
  },
  {
   "cell_type": "code",
   "execution_count": 2,
   "metadata": {},
   "outputs": [
    {
     "data": {
      "text/plain": [
       "defined object IOTest\n"
      ]
     },
     "metadata": {},
     "output_type": "display_data"
    }
   ],
   "source": [
    "import java.io._\n",
    "object IOTest{\n",
    "    def main(args:Array[String]){\n",
    "        val writer = new PrintWriter(new File(\"New.txt\"))\n",
    "        writer.write(\"Hello Scala\\n\")\n",
    "        writer.write(\"Bye Scala \\n\")\n",
    "        writer.close()\n",
    "    }\n",
    "}\n",
    "IOTest.main(Array())"
   ]
  },
  {
   "cell_type": "code",
   "execution_count": 47,
   "metadata": {},
   "outputs": [
    {
     "name": "stdout",
     "output_type": "stream",
     "text": [
      "Hello Scala\n",
      "Bye Scala \n"
     ]
    }
   ],
   "source": [
    "import scala.io.Source\n",
    "for(line <- Source.fromFile(\"New.txt\").getLines){\n",
    "    println(line)\n",
    "}"
   ]
  },
  {
   "cell_type": "code",
   "execution_count": 11,
   "metadata": {},
   "outputs": [
    {
     "data": {
      "text/plain": [
       "list = List(Python, Go)\n"
      ]
     },
     "metadata": {},
     "output_type": "display_data"
    },
    {
     "data": {
      "text/plain": [
       "List(Python, Go)"
      ]
     },
     "execution_count": 11,
     "metadata": {},
     "output_type": "execute_result"
    }
   ],
   "source": [
    "var list = List(\"Python\",\"Go\")"
   ]
  },
  {
   "cell_type": "code",
   "execution_count": 12,
   "metadata": {},
   "outputs": [
    {
     "data": {
      "text/plain": [
       "List(P, y, t, h, o, n, #, G, o, #)"
      ]
     },
     "execution_count": 12,
     "metadata": {},
     "output_type": "execute_result"
    }
   ],
   "source": [
    "list.flatMap(lang => lang + '#')"
   ]
  },
  {
   "cell_type": "code",
   "execution_count": 14,
   "metadata": {},
   "outputs": [
    {
     "data": {
      "text/plain": [
       "List(Python, Go)"
      ]
     },
     "execution_count": 14,
     "metadata": {},
     "output_type": "execute_result"
    }
   ],
   "source": [
    "list.filter(lang => lang.contains('o'))"
   ]
  },
  {
   "cell_type": "code",
   "execution_count": null,
   "metadata": {},
   "outputs": [],
   "source": []
  },
  {
   "cell_type": "code",
   "execution_count": 4,
   "metadata": {
    "scrolled": false
   },
   "outputs": [
    {
     "data": {
      "text/plain": [
       "list = List(1, 2, 3)\n"
      ]
     },
     "metadata": {},
     "output_type": "display_data"
    },
    {
     "data": {
      "text/plain": [
       "List(1, 2, 3)"
      ]
     },
     "execution_count": 4,
     "metadata": {},
     "output_type": "execute_result"
    }
   ],
   "source": [
    "var list = List(1,2,3)"
   ]
  },
  {
   "cell_type": "code",
   "execution_count": 10,
   "metadata": {},
   "outputs": [
    {
     "name": "stdout",
     "output_type": "stream",
     "text": [
      "3\n",
      "7\n",
      "13\n",
      "16\n"
     ]
    }
   ],
   "source": [
    "list.foreach(println)"
   ]
  },
  {
   "cell_type": "code",
   "execution_count": 9,
   "metadata": {},
   "outputs": [
    {
     "data": {
      "text/plain": [
       "list = List(3, 7, 13, 16)\n"
      ]
     },
     "metadata": {},
     "output_type": "display_data"
    },
    {
     "data": {
      "text/plain": [
       "39"
      ]
     },
     "execution_count": 9,
     "metadata": {},
     "output_type": "execute_result"
    }
   ],
   "source": [
    "var list = List(3,7,13,16)\n",
    "list.reduce(_+_)\n"
   ]
  },
  {
   "cell_type": "code",
   "execution_count": 3,
   "metadata": {},
   "outputs": [
    {
     "data": {
      "text/plain": [
       "writer = java.io.PrintWriter@75bc8ac7\n"
      ]
     },
     "metadata": {},
     "output_type": "display_data"
    },
    {
     "data": {
      "text/plain": [
       "java.io.PrintWriter@75bc8ac7"
      ]
     },
     "execution_count": 3,
     "metadata": {},
     "output_type": "execute_result"
    }
   ],
   "source": [
    "import java.io._\n",
    "val writer = new PrintWriter(new File(\"New.txt\" ))\n",
    "writer.write(\"Hello Scala\")\n",
    "writer.write(\"\\n\")\n",
    "writer.write(\"Bye Scala\")\n",
    "writer.close()"
   ]
  },
  {
   "cell_type": "code",
   "execution_count": null,
   "metadata": {},
   "outputs": [],
   "source": []
  },
  {
   "cell_type": "code",
   "execution_count": 28,
   "metadata": {},
   "outputs": [
    {
     "data": {
      "text/plain": [
       "defined object IOTest\n"
      ]
     },
     "metadata": {},
     "output_type": "display_data"
    }
   ],
   "source": [
    "import java.io._\n",
    "object IOTest {\n",
    "    def main(args:Array[String]) {\n",
    "        val writer = new PrintWriter(new File(\"new.txt\"))\n",
    "        writer.write(\"Hello There Scala\")\n",
    "        writer.close()\n",
    "    }\n",
    "}"
   ]
  },
  {
   "cell_type": "code",
   "execution_count": 30,
   "metadata": {},
   "outputs": [],
   "source": [
    "IOTest.main(Array())"
   ]
  },
  {
   "cell_type": "code",
   "execution_count": 27,
   "metadata": {},
   "outputs": [
    {
     "data": {
      "text/plain": [
       "myIter = non-empty iterator\n"
      ]
     },
     "metadata": {},
     "output_type": "display_data"
    },
    {
     "data": {
      "text/plain": [
       "non-empty iterator"
      ]
     },
     "execution_count": 27,
     "metadata": {},
     "output_type": "execute_result"
    }
   ],
   "source": [
    "val myIter = Iterator(\"I\",\"am\",\"going\")\n"
   ]
  },
  {
   "cell_type": "code",
   "execution_count": 24,
   "metadata": {},
   "outputs": [
    {
     "name": "stdout",
     "output_type": "stream",
     "text": [
      "you\n",
      "are\n",
      "next\n"
     ]
    },
    {
     "data": {
      "text/plain": [
       "it = empty iterator\n"
      ]
     },
     "metadata": {},
     "output_type": "display_data"
    },
    {
     "data": {
      "text/plain": [
       "empty iterator"
      ]
     },
     "execution_count": 24,
     "metadata": {},
     "output_type": "execute_result"
    }
   ],
   "source": [
    "val it = Iterator(\"you\",\"are\",\"next\")\n",
    "while(it.hasNext){\n",
    "    println(it.next())\n",
    "}"
   ]
  },
  {
   "cell_type": "code",
   "execution_count": 23,
   "metadata": {},
   "outputs": [
    {
     "data": {
      "text/plain": [
       "myTuple = (5,Hello,100)\n"
      ]
     },
     "metadata": {},
     "output_type": "display_data"
    },
    {
     "data": {
      "text/plain": [
       "(5,Hello,100)"
      ]
     },
     "execution_count": 23,
     "metadata": {},
     "output_type": "execute_result"
    }
   ],
   "source": [
    "val myTuple = Tuple3(5,\"Hello\",100)"
   ]
  },
  {
   "cell_type": "code",
   "execution_count": 21,
   "metadata": {
    "scrolled": true
   },
   "outputs": [
    {
     "data": {
      "text/plain": [
       "charMap = Map(A -> 1, B -> 2, C -> 3)\n"
      ]
     },
     "metadata": {},
     "output_type": "display_data"
    },
    {
     "data": {
      "text/plain": [
       "Map(A -> 1, B -> 2, C -> 3)"
      ]
     },
     "execution_count": 21,
     "metadata": {},
     "output_type": "execute_result"
    }
   ],
   "source": [
    "val charMap = Map('A' -> 1,'B' -> 2,'C' -> 3)"
   ]
  },
  {
   "cell_type": "code",
   "execution_count": 18,
   "metadata": {},
   "outputs": [
    {
     "data": {
      "text/plain": [
       "intSet = Set(2, 4, 17, 19)\n"
      ]
     },
     "metadata": {},
     "output_type": "display_data"
    },
    {
     "data": {
      "text/plain": [
       "Set(2, 4, 17, 19)"
      ]
     },
     "execution_count": 18,
     "metadata": {},
     "output_type": "execute_result"
    }
   ],
   "source": [
    "var intSet : Set[Int] = Set(2,4,17,19)"
   ]
  },
  {
   "cell_type": "code",
   "execution_count": 14,
   "metadata": {},
   "outputs": [
    {
     "data": {
      "text/plain": [
       "strList = List(apple, banana, mango, orange, pears)\n"
      ]
     },
     "metadata": {},
     "output_type": "display_data"
    },
    {
     "data": {
      "text/plain": [
       "List(apple, banana, mango, orange, pears)"
      ]
     },
     "execution_count": 14,
     "metadata": {},
     "output_type": "execute_result"
    }
   ],
   "source": [
    "val strList = List(\"apple\",\"banana\",\"mango\",\"orange\",\"pears\")"
   ]
  },
  {
   "cell_type": "code",
   "execution_count": 15,
   "metadata": {},
   "outputs": [
    {
     "data": {
      "text/plain": [
       "List(apple, banana, mango, orange, pears)"
      ]
     },
     "execution_count": 15,
     "metadata": {},
     "output_type": "execute_result"
    }
   ],
   "source": [
    "strList"
   ]
  },
  {
   "cell_type": "code",
   "execution_count": 13,
   "metadata": {},
   "outputs": [
    {
     "data": {
      "text/plain": [
       "days = List(Monday, Tuesday, Wednesday, Thursday, Friday, Saturday, Sunday)\n"
      ]
     },
     "metadata": {},
     "output_type": "display_data"
    },
    {
     "data": {
      "text/plain": [
       "List(Monday, Tuesday, Wednesday, Thursday, Friday, Saturday, Sunday)"
      ]
     },
     "execution_count": 13,
     "metadata": {},
     "output_type": "execute_result"
    }
   ],
   "source": [
    "val days = List(\"Monday\",\"Tuesday\",\"Wednesday\",\"Thursday\",\"Friday\",\"Saturday\",\"Sunday\")"
   ]
  },
  {
   "cell_type": "code",
   "execution_count": 12,
   "metadata": {},
   "outputs": [
    {
     "data": {
      "text/plain": [
       "Name: Compile Error\n",
       "Message: <console>:37: error: value update is not a member of List[String]\n",
       "       days(1) = \"Friday\"\n",
       "       ^\n",
       "\n",
       "StackTrace: "
      ]
     },
     "execution_count": 12,
     "metadata": {},
     "output_type": "execute_result"
    }
   ],
   "source": [
    "days(1) = \"Friday\""
   ]
  },
  {
   "cell_type": "code",
   "execution_count": 8,
   "metadata": {},
   "outputs": [
    {
     "data": {
      "text/plain": [
       "days = List(Monday, Tuesday, Wednesday, Thursday, Friday, Saturday, Sunday)\n"
      ]
     },
     "metadata": {},
     "output_type": "display_data"
    },
    {
     "data": {
      "text/plain": [
       "List(Monday, Tuesday, Wednesday, Thursday, Friday, Saturday, Sunday)"
      ]
     },
     "execution_count": 8,
     "metadata": {},
     "output_type": "execute_result"
    }
   ],
   "source": [
    "var days = List(\"Monday\",\"Tuesday\",\"Wednesday\",\"Thursday\",\"Friday\",\"Saturday\",\"Sunday\")"
   ]
  },
  {
   "cell_type": "code",
   "execution_count": 7,
   "metadata": {
    "scrolled": true
   },
   "outputs": [
    {
     "data": {
      "text/plain": [
       "numArray = Array(10, 12, 14, 16, 18, 20)\n"
      ]
     },
     "metadata": {},
     "output_type": "display_data"
    },
    {
     "data": {
      "text/plain": [
       "[10, 12, 14, 16, 18, 20]"
      ]
     },
     "execution_count": 7,
     "metadata": {},
     "output_type": "execute_result"
    }
   ],
   "source": [
    "import Array._\n",
    "var numArray:Array[Int] = range(10,22,2)"
   ]
  },
  {
   "cell_type": "code",
   "execution_count": 36,
   "metadata": {},
   "outputs": [
    {
     "data": {
      "text/plain": [
       "strArray = Array(John, Doe, Jane, Sach)\n"
      ]
     },
     "metadata": {},
     "output_type": "display_data"
    },
    {
     "data": {
      "text/plain": [
       "[John, Doe, Jane, Sach]"
      ]
     },
     "execution_count": 36,
     "metadata": {},
     "output_type": "execute_result"
    }
   ],
   "source": [
    "var strArray:Array[String] = Array(\"John\",\"Doe\",\"Jane\",\"Sach\")"
   ]
  },
  {
   "cell_type": "code",
   "execution_count": 35,
   "metadata": {},
   "outputs": [
    {
     "name": "stdout",
     "output_type": "stream",
     "text": [
      "key:yellow, value :#FFFF00\n",
      "key:green, value :#0008000\n"
     ]
    }
   ],
   "source": [
    "for((key,value) <- colors) {\n",
    "    printf(\"key:%s, value :%s\\n\",key,value)\n",
    "}"
   ]
  },
  {
   "cell_type": "code",
   "execution_count": 32,
   "metadata": {},
   "outputs": [
    {
     "data": {
      "text/plain": [
       "Map(yellow -> #FFFF00, green -> #0008000)"
      ]
     },
     "execution_count": 32,
     "metadata": {},
     "output_type": "execute_result"
    }
   ],
   "source": [
    "colors"
   ]
  },
  {
   "cell_type": "code",
   "execution_count": 31,
   "metadata": {},
   "outputs": [],
   "source": [
    "colors -= \"red\""
   ]
  },
  {
   "cell_type": "code",
   "execution_count": 29,
   "metadata": {},
   "outputs": [],
   "source": [
    "colors += \"green\" -> \"#0008000\""
   ]
  },
  {
   "cell_type": "code",
   "execution_count": 25,
   "metadata": {},
   "outputs": [
    {
     "data": {
      "text/plain": [
       "colors = Map(red -> #FF0000, yellow -> #FFFF00)\n"
      ]
     },
     "metadata": {},
     "output_type": "display_data"
    },
    {
     "data": {
      "text/plain": [
       "Map(red -> #FF0000, yellow -> #FFFF00)"
      ]
     },
     "execution_count": 25,
     "metadata": {},
     "output_type": "execute_result"
    }
   ],
   "source": [
    "var colors = Map(\"red\" -> \"#FF0000\",\"yellow\" -> \"#FFFF00\")"
   ]
  },
  {
   "cell_type": "code",
   "execution_count": 23,
   "metadata": {},
   "outputs": [
    {
     "data": {
      "text/plain": [
       "14"
      ]
     },
     "execution_count": 23,
     "metadata": {},
     "output_type": "execute_result"
    }
   ],
   "source": [
    "my_inta"
   ]
  },
  {
   "cell_type": "code",
   "execution_count": 22,
   "metadata": {
    "scrolled": true
   },
   "outputs": [
    {
     "data": {
      "text/plain": [
       "my_int = 14\n",
       "my_double = 45.69\n",
       "my_string = India\n"
      ]
     },
     "metadata": {},
     "output_type": "display_data"
    },
    {
     "data": {
      "text/plain": [
       "India"
      ]
     },
     "execution_count": 22,
     "metadata": {},
     "output_type": "execute_result"
    }
   ],
   "source": [
    "var(my_int,my_double,my_string) = t"
   ]
  },
  {
   "cell_type": "code",
   "execution_count": 15,
   "metadata": {
    "scrolled": true
   },
   "outputs": [
    {
     "data": {
      "text/plain": [
       "t = (14,45.69,Australia)\n"
      ]
     },
     "metadata": {},
     "output_type": "display_data"
    },
    {
     "data": {
      "text/plain": [
       "(14,45.69,Australia)"
      ]
     },
     "execution_count": 15,
     "metadata": {},
     "output_type": "execute_result"
    }
   ],
   "source": [
    "var t = (14,45.69,\"Australia\")"
   ]
  },
  {
   "cell_type": "code",
   "execution_count": 19,
   "metadata": {},
   "outputs": [
    {
     "data": {
      "text/plain": [
       "t = (14,45.69,India)\n"
      ]
     },
     "metadata": {},
     "output_type": "display_data"
    },
    {
     "data": {
      "text/plain": [
       "(14,45.69,India)"
      ]
     },
     "execution_count": 19,
     "metadata": {},
     "output_type": "execute_result"
    }
   ],
   "source": [
    "var t = Tuple3(14,45.69,\"India\")"
   ]
  },
  {
   "cell_type": "code",
   "execution_count": 10,
   "metadata": {
    "scrolled": false
   },
   "outputs": [
    {
     "data": {
      "text/plain": [
       "set = Set(5, 1, 9, 2, 76)\n"
      ]
     },
     "metadata": {},
     "output_type": "display_data"
    },
    {
     "data": {
      "text/plain": [
       "Set(5, 1, 9, 2, 76)"
      ]
     },
     "execution_count": 10,
     "metadata": {},
     "output_type": "execute_result"
    }
   ],
   "source": [
    "var set = Set(76,5,9,1,2)"
   ]
  },
  {
   "cell_type": "code",
   "execution_count": 7,
   "metadata": {},
   "outputs": [
    {
     "data": {
      "text/plain": [
       "nums = List(1, 2, 3)\n"
      ]
     },
     "metadata": {},
     "output_type": "display_data"
    },
    {
     "data": {
      "text/plain": [
       "List(1, 2, 3)"
      ]
     },
     "execution_count": 7,
     "metadata": {},
     "output_type": "execute_result"
    }
   ],
   "source": [
    "var nums = List(1,2,3)"
   ]
  },
  {
   "cell_type": "code",
   "execution_count": 5,
   "metadata": {},
   "outputs": [
    {
     "name": "stdout",
     "output_type": "stream",
     "text": [
      "Ruby\n",
      "Python\n",
      "SQL\n"
     ]
    }
   ],
   "source": [
    "for(x <- languages) {\n",
    "    println(x)\n",
    "}\n"
   ]
  },
  {
   "cell_type": "code",
   "execution_count": 3,
   "metadata": {},
   "outputs": [
    {
     "data": {
      "text/plain": [
       "Ruby"
      ]
     },
     "execution_count": 3,
     "metadata": {},
     "output_type": "execute_result"
    }
   ],
   "source": [
    "languages(0)"
   ]
  },
  {
   "cell_type": "code",
   "execution_count": 3,
   "metadata": {},
   "outputs": [
    {
     "data": {
      "text/plain": [
       "26"
      ]
     },
     "execution_count": 3,
     "metadata": {},
     "output_type": "execute_result"
    }
   ],
   "source": [
    "Calc.calcSum(5,8)"
   ]
  },
  {
   "cell_type": "code",
   "execution_count": 2,
   "metadata": {},
   "outputs": [
    {
     "data": {
      "text/plain": [
       "defined object Calc\n"
      ]
     },
     "metadata": {},
     "output_type": "display_data"
    }
   ],
   "source": [
    "object Calc {\n",
    "def calcSum(x: Int, y: Int): Int = {\n",
    "var sum: Int = 0\n",
    "if (x < y){\n",
    "for (i <- x to y){\n",
    "sum = sum + i\n",
    "}}\n",
    "else {\n",
    "for (i <- y to x){\n",
    "sum = sum + i\n",
    "}\n",
    "}\n",
    "\n",
    "return sum\n",
    "}\n",
    "\n",
    "}"
   ]
  },
  {
   "cell_type": "code",
   "execution_count": 1,
   "metadata": {},
   "outputs": [
    {
     "data": {
      "text/plain": [
       "Name: Compile Error\n",
       "Message: <console>:4: error: illegal start of statement\n",
       "if(a<b){ for(x<-a=\"\" to=\"\" b){=\"\" sum=\"sum+x\" }}=\"\" else{=\"\" for(x<-=\"\" b=\"\" to=\"\" a){=\"\" sum=\"sum+x\" }}=\"\" return=\"\" sum=\"\" }=\"\" }=\"\">\n",
       "                              ^\n",
       "<console>:4: error: illegal start of statement\n",
       "if(a<b){ for(x<-a=\"\" to=\"\" b){=\"\" sum=\"sum+x\" }}=\"\" else{=\"\" for(x<-=\"\" b=\"\" to=\"\" a){=\"\" sum=\"sum+x\" }}=\"\" return=\"\" sum=\"\" }=\"\" }=\"\">\n",
       "                                                         ^\n",
       "<console>:4: error: ';' expected but '=' found.\n",
       "if(a<b){ for(x<-a=\"\" to=\"\" b){=\"\" sum=\"sum+x\" }}=\"\" else{=\"\" for(x<-=\"\" b=\"\" to=\"\" a){=\"\" sum=\"sum+x\" }}=\"\" return=\"\" sum=\"\" }=\"\" }=\"\">\n",
       "                                                                                                        ^\n",
       "<console>:4: error: ';' expected but '=' found.\n",
       "if(a<b){ for(x<-a=\"\" to=\"\" b){=\"\" sum=\"sum+x\" }}=\"\" else{=\"\" for(x<-=\"\" b=\"\" to=\"\" a){=\"\" sum=\"sum+x\" }}=\"\" return=\"\" sum=\"\" }=\"\" }=\"\">\n",
       "                                                                                                                              ^\n",
       "<console>:4: error: ';' expected but '=' found.\n",
       "if(a<b){ for(x<-a=\"\" to=\"\" b){=\"\" sum=\"sum+x\" }}=\"\" else{=\"\" for(x<-=\"\" b=\"\" to=\"\" a){=\"\" sum=\"sum+x\" }}=\"\" return=\"\" sum=\"\" }=\"\" }=\"\">\n",
       "                                                                                                                                   ^\n",
       "\n",
       "StackTrace: "
      ]
     },
     "execution_count": 1,
     "metadata": {},
     "output_type": "execute_result"
    }
   ],
   "source": [
    "object Calc{\n",
    "def calcSum(a: Int,b: Int): Int ={\n",
    "var sum:Int=0\n",
    "if(a<b){ for(x<-a=\"\" to=\"\" b){=\"\" sum=\"sum+x\" }}=\"\" else{=\"\" for(x<-=\"\" b=\"\" to=\"\" a){=\"\" sum=\"sum+x\" }}=\"\" return=\"\" sum=\"\" }=\"\" }=\"\">\n"
   ]
  },
  {
   "cell_type": "code",
   "execution_count": 4,
   "metadata": {},
   "outputs": [
    {
     "data": {
      "text/plain": [
       "defined object Calc\n"
      ]
     },
     "metadata": {},
     "output_type": "display_data"
    }
   ],
   "source": [
    "object Calc{\n",
    "     def calSum(x:Int,y:Int):Int ={\n",
    "     var sum:Int = 0\n",
    "     for(a<-x to y){\n",
    "     sum=sum+a\n",
    "     }\n",
    "     return sum\n",
    "     }\n",
    "     }"
   ]
  },
  {
   "cell_type": "code",
   "execution_count": 7,
   "metadata": {},
   "outputs": [
    {
     "name": "stdout",
     "output_type": "stream",
     "text": [
      "Hello, world!\n",
      "Current time is as below\n",
      "Tue Sep 01 08:13:31 UTC 2020\n",
      "\n",
      "Result is:12\n"
     ]
    }
   ],
   "source": [
    "HelloWorld.main(Array())"
   ]
  },
  {
   "cell_type": "code",
   "execution_count": 6,
   "metadata": {},
   "outputs": [
    {
     "data": {
      "text/plain": [
       "defined object HelloWorld\n"
      ]
     },
     "metadata": {},
     "output_type": "display_data"
    }
   ],
   "source": [
    "//this is import of non-default packages to access specific utilities\n",
    "import java.text.SimpleDateFormat\n",
    "import java.util.Calendar\n",
    "//this is main class of the scala program\n",
    "object HelloWorld {\n",
    "  //this is the main method of the program\n",
    "  //this is the method which called when the program is run\n",
    "\n",
    "  def main(args: Array[String]) {\n",
    "    println(\"Hello, world!\") // prints Hello World\n",
    "\n",
    "    //display current date time using a function\n",
    "    dispDateTime();\n",
    "\n",
    "    var result: Int = 0;\n",
    "    //get sum of 2 numbers using a function\n",
    "    result = calcSum(5, 7);\n",
    "    println(\"Result is:\" + result)\n",
    "  }\n",
    "\n",
    "  def dispDateTime(): Unit= {\n",
    "    val now = Calendar.getInstance().getTime()\n",
    "    //println is a function which take st\n",
    "    println(\"Current time is \" + \"as below\")\n",
    "    println(now+\"\\n\")\n",
    "  }\n",
    "\n",
    "  def calcSum(a: Int, b: Int): Int = {\n",
    "    var sum: Int = 0\n",
    "    sum = a + b\n",
    "    return sum\n",
    "  }\n",
    "\n",
    "}"
   ]
  },
  {
   "cell_type": "code",
   "execution_count": 4,
   "metadata": {},
   "outputs": [
    {
     "data": {
      "text/plain": [
       "Name: Compile Error\n",
       "Message: <console>:38: error: not found: value Calender\n",
       "               val now= Calender.getInstance().getTime()\n",
       "                        ^\n",
       "\n",
       "StackTrace: "
      ]
     },
     "execution_count": 4,
     "metadata": {},
     "output_type": "execute_result"
    }
   ],
   "source": [
    "import java.text.SimpleDateFormat\n",
    "import java.util.Calendar\n",
    "object HelloWorld {\n",
    "    def main(args:Array[String]) {\n",
    "        println(\"Hello, world!\")\n",
    "        dispDateTime();\n",
    "        var result: Int = 0;\n",
    "        //get sum of 2 numbers using a function\n",
    "        result = calcSum(5,7);\n",
    "        println(\"Result is:\" +result)\n",
    "    }\n",
    "    \n",
    "    def dispDateTime(): Unit = {\n",
    "        val now= Calender.getInstance().getTime()\n",
    "        println(\"Current time is\" + \"as below\")\n",
    "        println(now+\"\\n\")\n",
    "    }\n",
    "    def calcSum(a:Int, b:Int): Int = {\n",
    "        var sum:Int = 0\n",
    "        sum = a + b\n",
    "        return sum\n",
    "    }\n",
    "    }\n"
   ]
  },
  {
   "cell_type": "code",
   "execution_count": 6,
   "metadata": {},
   "outputs": [
    {
     "data": {
      "text/plain": [
       "Good Afternoon"
      ]
     },
     "execution_count": 6,
     "metadata": {},
     "output_type": "execute_result"
    }
   ],
   "source": [
    "Greet.greet(12.39)"
   ]
  },
  {
   "cell_type": "code",
   "execution_count": 4,
   "metadata": {},
   "outputs": [
    {
     "data": {
      "text/plain": [
       "defined object Greet\n"
      ]
     },
     "metadata": {},
     "output_type": "display_data"
    }
   ],
   "source": [
    "object Greet{\n",
    "def greet(time:Double): String = {\n",
    "if (time >= 4.0 && time <12.30)\n",
    "return \"Good Morning\";\n",
    "if(time >= 12.0 && time <16.0)\n",
    "return \"Good Afternoon\";\n",
    "if (time >= 16.0 && time <21.0)\n",
    "return \"Good Evening\";\n",
    "if (time >= 21.0 && time < 24.0)\n",
    "return \"Good Night\";\n",
    "if (time>= 0.0 && time < 4.0)\n",
    "return \"Good Night\"\n",
    "else{\n",
    "return \"Please Enter valid Hours\"; }\n",
    "}\n",
    "}"
   ]
  },
  {
   "cell_type": "code",
   "execution_count": 3,
   "metadata": {},
   "outputs": [
    {
     "data": {
      "text/plain": [
       "defined object Hello\n"
      ]
     },
     "metadata": {},
     "output_type": "display_data"
    }
   ],
   "source": [
    "object Hello {\n",
    " def addNumbers( x:Int, y:Int) : Int = {\n",
    "     var sum :Int = 0\n",
    "     sum = x + y\n",
    "     return sum\n",
    " }\n",
    "}"
   ]
  },
  {
   "cell_type": "code",
   "execution_count": 4,
   "metadata": {},
   "outputs": [
    {
     "data": {
      "text/plain": [
       "defined class Student\n"
      ]
     },
     "metadata": {},
     "output_type": "display_data"
    }
   ],
   "source": [
    "class Student() {\n",
    "var name: String = \"\";\n",
    "var sex: Char = 'F';\n",
    "var grade: Int = 5;\n",
    "var age: Int = 12;\n",
    "\n",
    "def this(name_a: String) {\n",
    "this()\n",
    "this.name = name_a\n",
    "}\n",
    "\n",
    "def this(name_a: String, sex_a: Char) {\n",
    "this()\n",
    "this.name = name_a;\n",
    "this.sex = sex_a;\n",
    "}\n",
    "\n",
    "def this(name_a: String, sex_a: Char, grade_a: Int, age_a: Int) {\n",
    "this()\n",
    "this.name = name_a;\n",
    "this.sex = sex_a;\n",
    "this.grade = grade_a;\n",
    "this.age = age_a;\n",
    "}\n",
    "\n",
    "}"
   ]
  },
  {
   "cell_type": "code",
   "execution_count": 3,
   "metadata": {},
   "outputs": [
    {
     "data": {
      "text/plain": [
       "name_stu = John Doe\n",
       "sex_stu = M\n",
       "grade_stu = 15\n",
       "age_stu = 23\n"
      ]
     },
     "metadata": {},
     "output_type": "display_data"
    },
    {
     "data": {
      "text/plain": [
       "23"
      ]
     },
     "execution_count": 3,
     "metadata": {},
     "output_type": "execute_result"
    }
   ],
   "source": [
    "var name_stu = stu1.name\n",
    "var sex_stu = stu1.sex\n",
    "var grade_stu = stu1.grade\n",
    "var age_stu = stu1.agea"
   ]
  },
  {
   "cell_type": "code",
   "execution_count": 2,
   "metadata": {},
   "outputs": [
    {
     "data": {
      "text/plain": [
       "stu1 = Student@72c9cf2\n"
      ]
     },
     "metadata": {},
     "output_type": "display_data"
    },
    {
     "data": {
      "text/plain": [
       "$line23.$read$$iw$$iw$Student@72c9cf2"
      ]
     },
     "execution_count": 2,
     "metadata": {},
     "output_type": "execute_result"
    }
   ],
   "source": [
    "var stu1 = new Student(\"John Doe\",'M',15,23);"
   ]
  },
  {
   "cell_type": "code",
   "execution_count": 1,
   "metadata": {},
   "outputs": [
    {
     "data": {
      "text/plain": [
       "defined class Student\n"
      ]
     },
     "metadata": {},
     "output_type": "display_data"
    }
   ],
   "source": [
    "class Student(var uname:String,var usex:Char,var ugrade:Int,var nage:Int){\n",
    "     var name:String = uname;\n",
    "     var sex:Char = usex;\n",
    "     var grade:Int = ugrade;\n",
    "     var age:Int = nage;\n",
    "     }"
   ]
  },
  {
   "cell_type": "code",
   "execution_count": 2,
   "metadata": {},
   "outputs": [
    {
     "data": {
      "text/plain": [
       "defined object Purge\n"
      ]
     },
     "metadata": {},
     "output_type": "display_data"
    },
    {
     "data": {
      "text/plain": [
       "Nw Yrk"
      ]
     },
     "execution_count": 2,
     "metadata": {},
     "output_type": "execute_result"
    }
   ],
   "source": [
    "object Purge {\n",
    "def purgeVowels(str:String):String={\n",
    "    var str2 = str.replaceAll(\"[a|e|i|o|u|A|E|I|O|U]\",\"\")\n",
    "    return str2\n",
    "}\n",
    "}\n",
    "Purge.purgeVowels(\"New York\")"
   ]
  },
  {
   "cell_type": "code",
   "execution_count": 21,
   "metadata": {},
   "outputs": [
    {
     "data": {
      "text/plain": [
       "defined object Greet\n"
      ]
     },
     "metadata": {},
     "output_type": "display_data"
    }
   ],
   "source": [
    "object Greet{\n",
    "def greet(t:Int):String = {\n",
    "if(t >= 4 && t < 12){\n",
    "return \"Good Morning\"\n",
    "}\n",
    "if(t >= 12 && t < 16)\n",
    "{\n",
    "return \"Good Afternoon\"\n",
    "}\n",
    "if (t >= 16 && t < 21){\n",
    "return \"Good Evening\"\n",
    "}\n",
    "if(t >= 21 || t < 4){\n",
    "return \"Good Night\"\n",
    "}\n",
    "return \"\"\n",
    "}\n",
    "}\n"
   ]
  },
  {
   "cell_type": "code",
   "execution_count": 22,
   "metadata": {},
   "outputs": [
    {
     "data": {
      "text/plain": [
       "Good Morning"
      ]
     },
     "execution_count": 22,
     "metadata": {},
     "output_type": "execute_result"
    }
   ],
   "source": [
    "Greet.greet(4)"
   ]
  },
  {
   "cell_type": "code",
   "execution_count": 3,
   "metadata": {},
   "outputs": [
    {
     "data": {
      "text/plain": [
       "[1, 2, 3, 4, 5, 6, 7, 8, 9, 10]"
      ]
     },
     "execution_count": 3,
     "metadata": {},
     "output_type": "execute_result"
    }
   ],
   "source": [
    "nums.take(10)"
   ]
  },
  {
   "cell_type": "code",
   "execution_count": 7,
   "metadata": {},
   "outputs": [
    {
     "data": {
      "text/plain": [
       "mycity = san francisco\n"
      ]
     },
     "metadata": {},
     "output_type": "display_data"
    },
    {
     "data": {
      "text/plain": [
       "san francisco"
      ]
     },
     "execution_count": 7,
     "metadata": {},
     "output_type": "execute_result"
    }
   ],
   "source": [
    "var mycity = \"san francisco\""
   ]
  },
  {
   "cell_type": "raw",
   "metadata": {},
   "source": [
    "var principal = 500\n",
    "var interest_rate = 12\n",
    "var years = 5\n",
    "var interest = principal * interest_rate * years /100"
   ]
  },
  {
   "cell_type": "code",
   "execution_count": 9,
   "metadata": {},
   "outputs": [
    {
     "data": {
      "text/plain": [
       "defined object Hello\n"
      ]
     },
     "metadata": {},
     "output_type": "display_data"
    }
   ],
   "source": [
    "object Hello {\n",
    "    def main(args: Array[String]) {\n",
    "        var str:String = \"hello\"\n",
    "        println(str)\n",
    "        str = \"hello all\"\n",
    "        println(str)\n",
    "        str.concat(\"there\")\n",
    "        println(str)\n",
    "        str = str.concat(\"there\")\n",
    "        println(str)\n",
    "    }\n",
    "}"
   ]
  },
  {
   "cell_type": "code",
   "execution_count": 10,
   "metadata": {},
   "outputs": [
    {
     "data": {
      "text/plain": [
       "str = hello\n"
      ]
     },
     "metadata": {},
     "output_type": "display_data"
    },
    {
     "data": {
      "text/plain": [
       "hello"
      ]
     },
     "execution_count": 10,
     "metadata": {},
     "output_type": "execute_result"
    }
   ],
   "source": [
    "var str:String = \"hello\""
   ]
  },
  {
   "cell_type": "code",
   "execution_count": 11,
   "metadata": {},
   "outputs": [
    {
     "data": {
      "text/plain": [
       "Name: Compile Error\n",
       "Message: <console>:1: error: ';' expected but string literal found.\n",
       "str = hello all\"\n",
       "            ^\n",
       "<console>:1: error: unclosed string literal\n",
       "str = hello all\"\n",
       "                ^\n",
       "\n",
       "StackTrace: "
      ]
     },
     "execution_count": 11,
     "metadata": {},
     "output_type": "execute_result"
    }
   ],
   "source": [
    "str = hello all\""
   ]
  },
  {
   "cell_type": "raw",
   "metadata": {},
   "source": [
    "str = \"hello all\""
   ]
  },
  {
   "cell_type": "code",
   "execution_count": 12,
   "metadata": {},
   "outputs": [
    {
     "data": {
      "text/plain": [
       "str = hello all\n"
      ]
     },
     "metadata": {},
     "output_type": "display_data"
    },
    {
     "data": {
      "text/plain": [
       "hello all"
      ]
     },
     "execution_count": 12,
     "metadata": {},
     "output_type": "execute_result"
    }
   ],
   "source": [
    "str = \"hello all\""
   ]
  },
  {
   "cell_type": "raw",
   "metadata": {},
   "source": []
  },
  {
   "cell_type": "code",
   "execution_count": 13,
   "metadata": {},
   "outputs": [
    {
     "data": {
      "text/plain": [
       "hello all"
      ]
     },
     "execution_count": 13,
     "metadata": {},
     "output_type": "execute_result"
    }
   ],
   "source": [
    "str"
   ]
  },
  {
   "cell_type": "code",
   "execution_count": 14,
   "metadata": {},
   "outputs": [
    {
     "data": {
      "text/plain": [
       "Name: Compile Error\n",
       "Message: <console>:26: error: str  is already defined as variable str\n",
       "       var str = \"hello all\"\n",
       "           ^\n",
       "\n",
       "StackTrace: "
      ]
     },
     "execution_count": 14,
     "metadata": {},
     "output_type": "execute_result"
    }
   ],
   "source": [
    "var str = \"hello\"\n",
    "var str = \"hello all\""
   ]
  },
  {
   "cell_type": "code",
   "execution_count": 15,
   "metadata": {},
   "outputs": [
    {
     "data": {
      "text/plain": [
       "hello allthere"
      ]
     },
     "execution_count": 15,
     "metadata": {},
     "output_type": "execute_result"
    }
   ],
   "source": [
    "str.concat(\"there\")"
   ]
  },
  {
   "cell_type": "code",
   "execution_count": 1,
   "metadata": {},
   "outputs": [
    {
     "name": "stdout",
     "output_type": "stream",
     "text": [
      "John is 1.70 meters tall\n"
     ]
    },
    {
     "data": {
      "text/plain": [
       "height = 1.7\n",
       "name = John\n"
      ]
     },
     "metadata": {},
     "output_type": "display_data"
    },
    {
     "data": {
      "text/plain": [
       "John"
      ]
     },
     "execution_count": 1,
     "metadata": {},
     "output_type": "execute_result"
    }
   ],
   "source": [
    "val height = 1.7d\n",
    "val name = \"John\"\n",
    "println(f\"$name%s is $height%2.2f meters tall\") "
   ]
  },
  {
   "cell_type": "code",
   "execution_count": 2,
   "metadata": {},
   "outputs": [
    {
     "name": "stdout",
     "output_type": "stream",
     "text": [
      "Result = \n",
      " a \n",
      " b\n"
     ]
    }
   ],
   "source": [
    "println(s\"Result = \\n a \\n b\")"
   ]
  },
  {
   "cell_type": "code",
   "execution_count": 3,
   "metadata": {},
   "outputs": [
    {
     "name": "stdout",
     "output_type": "stream",
     "text": [
      "Result = \\n a \\n b\n"
     ]
    }
   ],
   "source": [
    "println(raw\"Result = \\n a \\n b\")"
   ]
  },
  {
   "cell_type": "code",
   "execution_count": 8,
   "metadata": {},
   "outputs": [
    {
     "name": "stdout",
     "output_type": "stream",
     "text": [
      "Length is 3\n"
     ]
    },
    {
     "data": {
      "text/plain": [
       "str1 = one\n"
      ]
     },
     "metadata": {},
     "output_type": "display_data"
    },
    {
     "data": {
      "text/plain": [
       "one"
      ]
     },
     "execution_count": 8,
     "metadata": {},
     "output_type": "execute_result"
    }
   ],
   "source": [
    "var str1:String = \"one\"\n",
    "println(\"Length is \" + str1.length());"
   ]
  },
  {
   "cell_type": "code",
   "execution_count": 9,
   "metadata": {},
   "outputs": [
    {
     "name": "stdout",
     "output_type": "stream",
     "text": [
      "Char at 5th index is Y\n"
     ]
    },
    {
     "data": {
      "text/plain": [
       "str = New York\n"
      ]
     },
     "metadata": {},
     "output_type": "display_data"
    },
    {
     "data": {
      "text/plain": [
       "New York"
      ]
     },
     "execution_count": 9,
     "metadata": {},
     "output_type": "execute_result"
    }
   ],
   "source": [
    "var str:String = \"New York\"\n",
    "println(\"Char at 5th index is \" + str.charAt(4));"
   ]
  },
  {
   "cell_type": "code",
   "execution_count": 10,
   "metadata": {},
   "outputs": [
    {
     "name": "stdout",
     "output_type": "stream",
     "text": [
      "New string is New Shire\n"
     ]
    },
    {
     "data": {
      "text/plain": [
       "str = New York\n"
      ]
     },
     "metadata": {},
     "output_type": "display_data"
    },
    {
     "data": {
      "text/plain": [
       "New York"
      ]
     },
     "execution_count": 10,
     "metadata": {},
     "output_type": "execute_result"
    }
   ],
   "source": [
    "var str:String = \"New York\"\n",
    "println(\"New string is \" + str.replace(\"York\",\"Shire\"));"
   ]
  },
  {
   "cell_type": "code",
   "execution_count": 11,
   "metadata": {},
   "outputs": [
    {
     "name": "stdout",
     "output_type": "stream",
     "text": [
      "New string is New York xabxcx\n"
     ]
    },
    {
     "data": {
      "text/plain": [
       "str = New York 1ab2c3\n"
      ]
     },
     "metadata": {},
     "output_type": "display_data"
    },
    {
     "data": {
      "text/plain": [
       "New York 1ab2c3"
      ]
     },
     "execution_count": 11,
     "metadata": {},
     "output_type": "execute_result"
    }
   ],
   "source": [
    "var str:String = \"New York 1ab2c3\"\n",
    "println(\"New string is \" + str.replaceAll(\"[0-9]\",\"x\"));"
   ]
  },
  {
   "cell_type": "code",
   "execution_count": null,
   "metadata": {},
   "outputs": [],
   "source": []
  },
  {
   "cell_type": "code",
   "execution_count": 7,
   "metadata": {},
   "outputs": [
    {
     "name": "stdout",
     "output_type": "stream",
     "text": [
      "Combined string is onetwo\n"
     ]
    },
    {
     "data": {
      "text/plain": [
       "str1 = one\n",
       "str2 = onetwo\n"
      ]
     },
     "metadata": {},
     "output_type": "display_data"
    },
    {
     "data": {
      "text/plain": [
       "onetwo"
      ]
     },
     "execution_count": 7,
     "metadata": {},
     "output_type": "execute_result"
    }
   ],
   "source": [
    "var str1:String = \"one\"\n",
    "var str2:String = str1.concat(\"two\")\n",
    "println(\"Combined string is \" + str2);"
   ]
  },
  {
   "cell_type": "code",
   "execution_count": 12,
   "metadata": {},
   "outputs": [
    {
     "name": "stdout",
     "output_type": "stream",
     "text": [
      "New string is Nez Yorz\n"
     ]
    },
    {
     "data": {
      "text/plain": [
       "str = New York\n"
      ]
     },
     "metadata": {},
     "output_type": "display_data"
    },
    {
     "data": {
      "text/plain": [
       "New York"
      ]
     },
     "execution_count": 12,
     "metadata": {},
     "output_type": "execute_result"
    }
   ],
   "source": [
    "var str:String = \"New York\"\n",
    "println(\"New string is \" + str.replaceAll(\"w|k\",\"z\"));"
   ]
  },
  {
   "cell_type": "code",
   "execution_count": 13,
   "metadata": {},
   "outputs": [
    {
     "name": "stdout",
     "output_type": "stream",
     "text": [
      "New string is New\n"
     ]
    },
    {
     "data": {
      "text/plain": [
       "str = New,York,Hello, There\n",
       "strarray = Array(New, York, Hello, \" There\")\n",
       "strarray = [Ljava.lang.String;@540e9b5\n"
      ]
     },
     "metadata": {},
     "output_type": "display_data"
    },
    {
     "data": {
      "text/plain": [
       "[New, York, Hello,  There]"
      ]
     },
     "execution_count": 13,
     "metadata": {},
     "output_type": "execute_result"
    }
   ],
   "source": [
    "var str:String = \"New,York,Hello, There\"\n",
    "var strarray = new Array[String](3)\n",
    "strarray = str.split(\",\")\n",
    "println(\"New string is \" + strarray(0));"
   ]
  },
  {
   "cell_type": "code",
   "execution_count": 14,
   "metadata": {},
   "outputs": [
    {
     "name": "stdout",
     "output_type": "stream",
     "text": [
      "New string is New\n",
      "New\n",
      "York\n",
      "Hello\n",
      " There\n"
     ]
    },
    {
     "data": {
      "text/plain": [
       "str = New,York,Hello, There\n",
       "strarray = Array(New, York, Hello, \" There\")\n",
       "strarray = [Ljava.lang.String;@74130c06\n"
      ]
     },
     "metadata": {},
     "output_type": "display_data"
    },
    {
     "data": {
      "text/plain": [
       "[New, York, Hello,  There]"
      ]
     },
     "execution_count": 14,
     "metadata": {},
     "output_type": "execute_result"
    }
   ],
   "source": [
    "var str:String = \"New,York,Hello, There\"\n",
    "var strarray = new Array[String](3)\n",
    "strarray = str.split(\",\")\n",
    "println(\"New string is \" + strarray(0));\n",
    "println(strarray.deep.mkString(\"\\n\"))"
   ]
  },
  {
   "cell_type": "code",
   "execution_count": 15,
   "metadata": {},
   "outputs": [
    {
     "name": "stdout",
     "output_type": "stream",
     "text": [
      "New string is Yorky\n"
     ]
    },
    {
     "data": {
      "text/plain": [
       "str = NewxYorkyHello, There\n",
       "str1 = Yorky\n"
      ]
     },
     "metadata": {},
     "output_type": "display_data"
    },
    {
     "data": {
      "text/plain": [
       "Yorky"
      ]
     },
     "execution_count": 15,
     "metadata": {},
     "output_type": "execute_result"
    }
   ],
   "source": [
    "var str:String = \"NewxYorkyHello, There\"\n",
    "var str1 = str.substring(4,9)\n",
    "println(s\"New string is $str1\")"
   ]
  },
  {
   "cell_type": "code",
   "execution_count": 17,
   "metadata": {},
   "outputs": [
    {
     "name": "stdout",
     "output_type": "stream",
     "text": [
      "hello all\n"
     ]
    }
   ],
   "source": [
    "println(str)"
   ]
  },
  {
   "cell_type": "code",
   "execution_count": 20,
   "metadata": {},
   "outputs": [
    {
     "data": {
      "text/plain": [
       "Name: Compile Error\n",
       "Message: <console>:6: error: unclosed string literal\n",
       "        var fs = printf(\"The value of the float variable is \" + \"%f,while the\n",
       "                                                                ^\n",
       "<console>:7: error: unclosed string literal\n",
       "        value of the integer \" + \"variable is %d, and the string\" + \"is %s\",floatVar,intVar,stringVar);\n",
       "                                                                           ^\n",
       "\n",
       "StackTrace: "
      ]
     },
     "execution_count": 20,
     "metadata": {},
     "output_type": "execute_result"
    }
   ],
   "source": [
    "object Demo {\n",
    "    def main(args:Array[String]) {\n",
    "        var floatVar = 10.123\n",
    "        var intVar = 5000\n",
    "        var stringVar = \"Hello There\"\n",
    "        var fs = printf(\"The value of the float variable is \" + \"%f,while the\n",
    "        value of the integer \" + \"variable is %d, and the string\" + \"is %s\",floatVar,intVar,stringVar);\n",
    "        println(fs)\n",
    "    }\n",
    "    }"
   ]
  },
  {
   "cell_type": "code",
   "execution_count": 31,
   "metadata": {},
   "outputs": [
    {
     "data": {
      "text/plain": [
       "defined object Purge\n"
      ]
     },
     "metadata": {},
     "output_type": "display_data"
    }
   ],
   "source": [
    "object Purge {\n",
    "    def purgeVowels(str:String ) :String = {\n",
    "        var str1 = \"New York\"\n",
    "        var str2:String = \"\"\n",
    "        str2 = str.replaceAll(\"a|e|i|o|u|A|E|I|O|U\",\"\");\n",
    "        return str2\n",
    "    }\n",
    "}"
   ]
  },
  {
   "cell_type": "code",
   "execution_count": 28,
   "metadata": {},
   "outputs": [
    {
     "data": {
      "text/plain": [
       "jnky"
      ]
     },
     "execution_count": 28,
     "metadata": {},
     "output_type": "execute_result"
    }
   ],
   "source": [
    "Purge.purgeVowels(\"Ajinkya\")"
   ]
  },
  {
   "cell_type": "code",
   "execution_count": 32,
   "metadata": {},
   "outputs": [
    {
     "data": {
      "text/plain": [
       "Nw Yrk"
      ]
     },
     "execution_count": 32,
     "metadata": {},
     "output_type": "execute_result"
    }
   ],
   "source": [
    "Purge.purgeVowels(\"New York\")\n"
   ]
  },
  {
   "cell_type": "code",
   "execution_count": null,
   "metadata": {},
   "outputs": [],
   "source": []
  },
  {
   "cell_type": "code",
   "execution_count": null,
   "metadata": {},
   "outputs": [],
   "source": []
  }
 ],
 "metadata": {
  "kernelspec": {
   "display_name": "Apache Toree - Scala",
   "language": "scala",
   "name": "apache_toree_scala"
  },
  "language_info": {
   "codemirror_mode": "text/x-scala",
   "file_extension": ".scala",
   "mimetype": "text/x-scala",
   "name": "scala",
   "pygments_lexer": "scala",
   "version": "2.11.8"
  },
  "toc": {
   "base_numbering": 1,
   "nav_menu": {},
   "number_sections": true,
   "sideBar": true,
   "skip_h1_title": false,
   "title_cell": "Table of Contents",
   "title_sidebar": "Contents",
   "toc_cell": false,
   "toc_position": {},
   "toc_section_display": true,
   "toc_window_display": false
  }
 },
 "nbformat": 4,
 "nbformat_minor": 2
}
