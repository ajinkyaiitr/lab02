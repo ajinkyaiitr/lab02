{
 "cells": [
  {
   "cell_type": "code",
   "execution_count": 1,
   "metadata": {},
   "outputs": [],
   "source": [
    "import numpy as np\n",
    "alpha = 'a'\n",
    "names = []\n",
    "for i in range(0,26):\n",
    "    names.append(alpha)\n",
    "#For Filling alphabets\n",
    "    alpha = chr(ord(alpha)+1)\n",
    "#For Filling numbers\n",
    "ages = np.random.randint(0,60,size = 26)\n",
    "data = dict(zip(names,ages))"
   ]
  },
  {
   "cell_type": "code",
   "execution_count": 2,
   "metadata": {},
   "outputs": [
    {
     "data": {
      "text/plain": [
       "{'a': 16,\n",
       " 'b': 11,\n",
       " 'c': 49,\n",
       " 'd': 41,\n",
       " 'e': 8,\n",
       " 'f': 18,\n",
       " 'g': 54,\n",
       " 'h': 0,\n",
       " 'i': 22,\n",
       " 'j': 32,\n",
       " 'k': 39,\n",
       " 'l': 18,\n",
       " 'm': 46,\n",
       " 'n': 52,\n",
       " 'o': 2,\n",
       " 'p': 22,\n",
       " 'q': 31,\n",
       " 'r': 0,\n",
       " 's': 18,\n",
       " 't': 4,\n",
       " 'u': 2,\n",
       " 'v': 35,\n",
       " 'w': 9,\n",
       " 'x': 57,\n",
       " 'y': 57,\n",
       " 'z': 17}"
      ]
     },
     "execution_count": 2,
     "metadata": {},
     "output_type": "execute_result"
    }
   ],
   "source": [
    "data\n"
   ]
  },
  {
   "cell_type": "code",
   "execution_count": 3,
   "metadata": {},
   "outputs": [
    {
     "name": "stdout",
     "output_type": "stream",
     "text": [
      "He is a teenager\n"
     ]
    }
   ],
   "source": [
    "if(data['a']) > 18:\n",
    "    print(\"He is a Adult\")\n",
    "elif(data['a']) <18:\n",
    "    print(\"He is a teenager\")"
   ]
  },
  {
   "cell_type": "code",
   "execution_count": 4,
   "metadata": {},
   "outputs": [],
   "source": [
    "name = 't'\n",
    "age = data[name]\n",
    "child = []\n",
    "teenager = []\n",
    "adult = []\n",
    "if(age < 13):\n",
    "    child.append({name:data[name]})\n",
    "if(age > 13 and age < 18):\n",
    "    teenager.append({name:data[name]})\n",
    "if(age > 18):\n",
    "    adult.append({name:data[name]})\n",
    "print('Child List:' ,child)"
   ]
  },
  {
   "cell_type": "code",
   "execution_count": 5,
   "metadata": {},
   "outputs": [
    {
     "data": {
      "text/plain": [
       "[{'t': 4}]"
      ]
     },
     "execution_count": 5,
     "metadata": {},
     "output_type": "execute_result"
    }
   ],
   "source": [
    "child\n"
   ]
  },
  {
   "cell_type": "code",
   "execution_count": null,
   "metadata": {},
   "outputs": [],
   "source": []
  }
 ],
 "metadata": {
  "kernelspec": {
   "display_name": "Python 3",
   "language": "python",
   "name": "python3"
  },
  "language_info": {
   "codemirror_mode": {
    "name": "ipython",
    "version": 3
   },
   "file_extension": ".py",
   "mimetype": "text/x-python",
   "name": "python",
   "nbconvert_exporter": "python",
   "pygments_lexer": "ipython3",
   "version": "3.6.8"
  },
  "toc": {
   "base_numbering": 1,
   "nav_menu": {},
   "number_sections": true,
   "sideBar": true,
   "skip_h1_title": false,
   "title_cell": "Table of Contents",
   "title_sidebar": "Contents",
   "toc_cell": false,
   "toc_position": {},
   "toc_section_display": true,
   "toc_window_display": false
  }
 },
 "nbformat": 4,
 "nbformat_minor": 2
}
