{
 "cells": [
  {
   "cell_type": "code",
   "execution_count": 1,
   "metadata": {},
   "outputs": [
    {
     "data": {
      "text/plain": [
       "Name: Compile Error\n",
       "Message: <console>:28: error: not found: value hadoop\n",
       "       hadoop fs -ls /data/spark/project/NASA_access_log_Aug95.gz\n",
       "       ^\n",
       "<console>:28: error: not found: value ls\n",
       "       hadoop fs -ls /data/spark/project/NASA_access_log_Aug95.gz\n",
       "                  ^\n",
       "<console>:28: error: not found: value data\n",
       "       hadoop fs -ls /data/spark/project/NASA_access_log_Aug95.gz\n",
       "                      ^\n",
       "<console>:28: error: not found: value project\n",
       "       hadoop fs -ls /data/spark/project/NASA_access_log_Aug95.gz\n",
       "                                 ^\n",
       "<console>:28: error: not found: value NASA_access_log_Aug95\n",
       "       hadoop fs -ls /data/spark/project/NASA_access_log_Aug95.gz\n",
       "                                         ^\n",
       "\n",
       "StackTrace: "
      ]
     },
     "execution_count": 1,
     "metadata": {},
     "output_type": "execute_result"
    }
   ],
   "source": [
    "hadoop fs -ls /data/spark/project/NASA_access_log_Aug95.gz"
   ]
  },
  {
   "cell_type": "code",
   "execution_count": null,
   "metadata": {},
   "outputs": [],
   "source": []
  }
 ],
 "metadata": {
  "kernelspec": {
   "display_name": "Apache Toree - Scala",
   "language": "scala",
   "name": "apache_toree_scala"
  },
  "language_info": {
   "codemirror_mode": "text/x-scala",
   "file_extension": ".scala",
   "mimetype": "text/x-scala",
   "name": "scala",
   "pygments_lexer": "scala",
   "version": "2.11.8"
  },
  "toc": {
   "base_numbering": 1,
   "nav_menu": {},
   "number_sections": true,
   "sideBar": true,
   "skip_h1_title": false,
   "title_cell": "Table of Contents",
   "title_sidebar": "Contents",
   "toc_cell": false,
   "toc_position": {},
   "toc_section_display": true,
   "toc_window_display": false
  }
 },
 "nbformat": 4,
 "nbformat_minor": 2
}
