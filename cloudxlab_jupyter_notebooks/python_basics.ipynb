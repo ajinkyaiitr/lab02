{
 "cells": [
  {
   "cell_type": "code",
   "execution_count": 21,
   "metadata": {},
   "outputs": [],
   "source": [
    "import numpy as np\n",
    "alpha = 'a'\n",
    "names = []\n",
    "for i in range(0,26):\n",
    "    names.append(alpha)\n",
    "#For Filling alphabets\n",
    "    alpha = chr(ord(alpha)+1)\n",
    "#For Filling numbers\n",
    "ages = np.random.randint(0,60,size = 26)\n",
    "data = dict(zip(names,ages))"
   ]
  },
  {
   "cell_type": "code",
   "execution_count": 24,
   "metadata": {},
   "outputs": [
    {
     "name": "stdout",
     "output_type": "stream",
     "text": [
      "a\n",
      "b\n",
      "c\n",
      "d\n"
     ]
    }
   ],
   "source": [
    "print(names[0])\n",
    "print(names[1])\n",
    "print(names[2])\n",
    "print(names[3])\n"
   ]
  },
  {
   "cell_type": "code",
   "execution_count": 25,
   "metadata": {},
   "outputs": [
    {
     "name": "stdout",
     "output_type": "stream",
     "text": [
      "a\n",
      "b\n",
      "c\n",
      "d\n",
      "e\n"
     ]
    }
   ],
   "source": [
    "for iterator in range(5):\n",
    "    print(names[iterator])"
   ]
  },
  {
   "cell_type": "code",
   "execution_count": 3,
   "metadata": {},
   "outputs": [
    {
     "name": "stdout",
     "output_type": "stream",
     "text": [
      "He is a teenager\n"
     ]
    }
   ],
   "source": [
    "if(data['a']) > 18:\n",
    "    print(\"He is a Adult\")\n",
    "elif(data['a']) <18:\n",
    "    print(\"He is a teenager\")"
   ]
  },
  {
   "cell_type": "code",
   "execution_count": 9,
   "metadata": {},
   "outputs": [
    {
     "name": "stdout",
     "output_type": "stream",
     "text": [
      "Child List: [{'t': 4}]\n",
      "Teenage List: []\n",
      "Adult List: []\n"
     ]
    }
   ],
   "source": [
    "\n",
    "name = 't'\n",
    "age = data[name]\n",
    "\n",
    "if(age < 13):\n",
    "    child.append({name:data[name]})\n",
    "if(age > 13 and age < 18):\n",
    "    teenager.append({name:data[name]})\n",
    "if(age > 18):\n",
    "    adult.append({name:data[name]})\n",
    "print('Child List:' ,child)\n",
    "print('Teenage List:',teenager)\n",
    "print('Adult List:',adult)\n"
   ]
  },
  {
   "cell_type": "code",
   "execution_count": 5,
   "metadata": {},
   "outputs": [
    {
     "data": {
      "text/plain": [
       "[{'t': 4}]"
      ]
     },
     "execution_count": 5,
     "metadata": {},
     "output_type": "execute_result"
    }
   ],
   "source": [
    "child\n"
   ]
  },
  {
   "cell_type": "code",
   "execution_count": 10,
   "metadata": {},
   "outputs": [
    {
     "name": "stdout",
     "output_type": "stream",
     "text": [
      "Child List: [{'t': 4}, {'t': 4}]\n",
      "Teenage List: []\n",
      "Adult List: []\n"
     ]
    }
   ],
   "source": [
    "\n",
    "name = 't'\n",
    "age = data[name]\n",
    "\n",
    "if(age < 13):\n",
    "    child.append({name:data[name]})\n",
    "if(age > 13 and age < 18):\n",
    "    teenager.append({name:data[name]})\n",
    "if(age > 18):\n",
    "    adult.append({name:data[name]})\n",
    "print('Child List:' ,child)\n",
    "print('Teenage List:',teenager)\n",
    "print('Adult List:',adult)"
   ]
  },
  {
   "cell_type": "code",
   "execution_count": 13,
   "metadata": {},
   "outputs": [
    {
     "name": "stdout",
     "output_type": "stream",
     "text": [
      "Python: 0\n",
      "Python: 1\n",
      "Python: 2\n",
      "Python: 3\n",
      "Python: 4\n",
      "Python: 5\n",
      "Python: 6\n",
      "Python: 7\n",
      "Python: 8\n",
      "Python: 9\n",
      "Python: 10\n",
      "Python: 11\n",
      "Python: 12\n",
      "Python: 13\n",
      "Python: 14\n",
      "Python: 15\n",
      "Python: 16\n",
      "Python: 17\n",
      "Python: 18\n",
      "Python: 19\n",
      "Python: 20\n",
      "Python: 21\n",
      "Python: 22\n",
      "Python: 23\n",
      "Python: 24\n",
      "Python: 25\n",
      "Python: 26\n",
      "Python: 27\n",
      "Python: 28\n",
      "Python: 29\n",
      "Python: 30\n",
      "Python: 31\n",
      "Python: 32\n",
      "Python: 33\n",
      "Python: 34\n",
      "Python: 35\n",
      "Python: 36\n",
      "Python: 37\n",
      "Python: 38\n",
      "Python: 39\n",
      "Python: 40\n",
      "Python: 41\n",
      "Python: 42\n",
      "Python: 43\n",
      "Python: 44\n",
      "Python: 45\n",
      "Python: 46\n",
      "Python: 47\n",
      "Python: 48\n",
      "Python: 49\n",
      "Python: 50\n",
      "Python: 51\n",
      "Python: 52\n",
      "Python: 53\n",
      "Python: 54\n",
      "Python: 55\n",
      "Python: 56\n",
      "Python: 57\n",
      "Python: 58\n",
      "Python: 59\n",
      "Python: 60\n",
      "Python: 61\n",
      "Python: 62\n",
      "Python: 63\n",
      "Python: 64\n",
      "Python: 65\n",
      "Python: 66\n",
      "Python: 67\n",
      "Python: 68\n",
      "Python: 69\n",
      "Python: 70\n",
      "Python: 71\n",
      "Python: 72\n",
      "Python: 73\n",
      "Python: 74\n",
      "Python: 75\n",
      "Python: 76\n",
      "Python: 77\n",
      "Python: 78\n",
      "Python: 79\n",
      "Python: 80\n",
      "Python: 81\n",
      "Python: 82\n",
      "Python: 83\n",
      "Python: 84\n",
      "Python: 85\n",
      "Python: 86\n",
      "Python: 87\n",
      "Python: 88\n",
      "Python: 89\n",
      "Python: 90\n",
      "Python: 91\n",
      "Python: 92\n",
      "Python: 93\n",
      "Python: 94\n",
      "Python: 95\n",
      "Python: 96\n",
      "Python: 97\n",
      "Python: 98\n",
      "Python: 99\n"
     ]
    }
   ],
   "source": [
    "for names in range(100):\n",
    "    print('Python:',names)"
   ]
  },
  {
   "cell_type": "code",
   "execution_count": 14,
   "metadata": {},
   "outputs": [
    {
     "name": "stdout",
     "output_type": "stream",
     "text": [
      "99\n"
     ]
    }
   ],
   "source": [
    "print(names)"
   ]
  },
  {
   "cell_type": "code",
   "execution_count": 15,
   "metadata": {},
   "outputs": [
    {
     "data": {
      "text/plain": [
       "99"
      ]
     },
     "execution_count": 15,
     "metadata": {},
     "output_type": "execute_result"
    }
   ],
   "source": [
    "names"
   ]
  },
  {
   "cell_type": "code",
   "execution_count": 16,
   "metadata": {},
   "outputs": [
    {
     "data": {
      "text/plain": [
       "{'a': 16,\n",
       " 'b': 11,\n",
       " 'c': 49,\n",
       " 'd': 41,\n",
       " 'e': 8,\n",
       " 'f': 18,\n",
       " 'g': 54,\n",
       " 'h': 0,\n",
       " 'i': 22,\n",
       " 'j': 32,\n",
       " 'k': 39,\n",
       " 'l': 18,\n",
       " 'm': 46,\n",
       " 'n': 52,\n",
       " 'o': 2,\n",
       " 'p': 22,\n",
       " 'q': 31,\n",
       " 'r': 0,\n",
       " 's': 18,\n",
       " 't': 4,\n",
       " 'u': 2,\n",
       " 'v': 35,\n",
       " 'w': 9,\n",
       " 'x': 57,\n",
       " 'y': 57,\n",
       " 'z': 17}"
      ]
     },
     "execution_count": 16,
     "metadata": {},
     "output_type": "execute_result"
    }
   ],
   "source": [
    "data"
   ]
  },
  {
   "cell_type": "code",
   "execution_count": 17,
   "metadata": {},
   "outputs": [
    {
     "ename": "TypeError",
     "evalue": "'int' object is not subscriptable",
     "output_type": "error",
     "traceback": [
      "\u001b[0;31m---------------------------------------------------------------------------\u001b[0m",
      "\u001b[0;31mTypeError\u001b[0m                                 Traceback (most recent call last)",
      "\u001b[0;32m<ipython-input-17-d55c7c28fed3>\u001b[0m in \u001b[0;36m<module>\u001b[0;34m\u001b[0m\n\u001b[0;32m----> 1\u001b[0;31m \u001b[0mnames\u001b[0m\u001b[0;34m[\u001b[0m\u001b[0;36m0\u001b[0m\u001b[0;34m]\u001b[0m\u001b[0;34m\u001b[0m\u001b[0;34m\u001b[0m\u001b[0m\n\u001b[0m",
      "\u001b[0;31mTypeError\u001b[0m: 'int' object is not subscriptable"
     ]
    }
   ],
   "source": [
    "names[0]"
   ]
  },
  {
   "cell_type": "code",
   "execution_count": 31,
   "metadata": {},
   "outputs": [
    {
     "name": "stdout",
     "output_type": "stream",
     "text": [
      "Child List: [{'a': 6}, {'d': 5}, {'e': 1}, {'m': 11}, {'s': 9}]\n",
      "Teenage List: [{'f': 15}, {'k': 13}, {'z': 13}]\n",
      "Adult List: [{'b': 44}, {'c': 51}, {'g': 19}, {'h': 45}, {'i': 57}, {'j': 47}, {'l': 25}, {'n': 55}, {'o': 53}, {'p': 30}, {'q': 31}, {'r': 52}, {'t': 36}, {'u': 26}, {'v': 50}, {'w': 56}, {'x': 38}, {'y': 40}]\n"
     ]
    }
   ],
   "source": [
    "#Program using for loop\n",
    "child = []\n",
    "teenager = []\n",
    "adult = []\n",
    "for iterator in range(26):\n",
    "    name = names[iterator]\n",
    "    age = data[name]\n",
    "    if(age < 13):\n",
    "     child.append({name:data[name]})\n",
    "    elif(age < 18):\n",
    "     teenager.append({name:data[name]})\n",
    "    else:\n",
    "     adult.append({name:data[name]})\n",
    "print('Child List:' ,child)\n",
    "print('Teenage List:',teenager)\n",
    "print('Adult List:',adult)"
   ]
  },
  {
   "cell_type": "code",
   "execution_count": 32,
   "metadata": {},
   "outputs": [
    {
     "data": {
      "text/plain": [
       "{'a': 6,\n",
       " 'b': 44,\n",
       " 'c': 51,\n",
       " 'd': 5,\n",
       " 'e': 1,\n",
       " 'f': 15,\n",
       " 'g': 19,\n",
       " 'h': 45,\n",
       " 'i': 57,\n",
       " 'j': 47,\n",
       " 'k': 13,\n",
       " 'l': 25,\n",
       " 'm': 11,\n",
       " 'n': 55,\n",
       " 'o': 53,\n",
       " 'p': 30,\n",
       " 'q': 31,\n",
       " 'r': 52,\n",
       " 's': 9,\n",
       " 't': 36,\n",
       " 'u': 26,\n",
       " 'v': 50,\n",
       " 'w': 56,\n",
       " 'x': 38,\n",
       " 'y': 40,\n",
       " 'z': 13}"
      ]
     },
     "execution_count": 32,
     "metadata": {},
     "output_type": "execute_result"
    }
   ],
   "source": [
    "data"
   ]
  },
  {
   "cell_type": "code",
   "execution_count": 33,
   "metadata": {},
   "outputs": [
    {
     "data": {
      "text/plain": [
       "13"
      ]
     },
     "execution_count": 33,
     "metadata": {},
     "output_type": "execute_result"
    }
   ],
   "source": [
    "data[name]"
   ]
  },
  {
   "cell_type": "code",
   "execution_count": 37,
   "metadata": {},
   "outputs": [
    {
     "ename": "IndexError",
     "evalue": "string index out of range",
     "output_type": "error",
     "traceback": [
      "\u001b[0;31m---------------------------------------------------------------------------\u001b[0m",
      "\u001b[0;31mIndexError\u001b[0m                                Traceback (most recent call last)",
      "\u001b[0;32m<ipython-input-37-82eea8a350fe>\u001b[0m in \u001b[0;36m<module>\u001b[0;34m\u001b[0m\n\u001b[0;32m----> 1\u001b[0;31m \u001b[0mdata\u001b[0m\u001b[0;34m[\u001b[0m\u001b[0mname\u001b[0m\u001b[0;34m[\u001b[0m\u001b[0;36m1\u001b[0m\u001b[0;34m]\u001b[0m\u001b[0;34m]\u001b[0m\u001b[0;34m\u001b[0m\u001b[0;34m\u001b[0m\u001b[0m\n\u001b[0m",
      "\u001b[0;31mIndexError\u001b[0m: string index out of range"
     ]
    }
   ],
   "source": [
    "data[name[1]]"
   ]
  },
  {
   "cell_type": "code",
   "execution_count": 40,
   "metadata": {},
   "outputs": [
    {
     "name": "stdout",
     "output_type": "stream",
     "text": [
      "Python\n",
      "Python\n",
      "Python\n",
      "Python\n",
      "Python\n",
      "Loop Ended: Current Value of i : 10\n"
     ]
    }
   ],
   "source": [
    "i = 0\n",
    "while(i < 10):\n",
    "    print(\"Python\")\n",
    "    i = i + 2\n",
    "print(\"Loop Ended: Current Value of i :\",i)    "
   ]
  },
  {
   "cell_type": "code",
   "execution_count": 44,
   "metadata": {},
   "outputs": [],
   "source": [
    "#Function Example\n",
    "\n",
    "def func(it):\n",
    "    print(\"Python\")\n",
    "    for i in range(it):\n",
    "        print(\"Python is cool!\")\n"
   ]
  },
  {
   "cell_type": "code",
   "execution_count": 45,
   "metadata": {},
   "outputs": [
    {
     "name": "stdout",
     "output_type": "stream",
     "text": [
      "Python\n",
      "Python is cool!\n",
      "Python is cool!\n",
      "Python is cool!\n",
      "Python is cool!\n",
      "Python is cool!\n",
      "Python is cool!\n",
      "Python is cool!\n",
      "Python is cool!\n",
      "Python is cool!\n",
      "Python is cool!\n"
     ]
    }
   ],
   "source": [
    "func(10)"
   ]
  },
  {
   "cell_type": "code",
   "execution_count": 49,
   "metadata": {},
   "outputs": [],
   "source": [
    "#Program using for loop\n",
    "\n",
    "def categorize(data_dictionary):\n",
    "    child = []\n",
    "    teenager = []\n",
    "    adult = []\n",
    "    for iterator in range(len(names)):\n",
    "        name = names[iterator]\n",
    "        age = data_dictionary[name]\n",
    "        if(age < 13):\n",
    "         child.append({name:data_dictionary[name]})\n",
    "        elif(age < 18):\n",
    "         teenager.append({name:data_dictionary[name]})\n",
    "        else:\n",
    "         adult.append({name:data_dictionary[name]})\n",
    "    print('Child List:' ,child)\n",
    "    print('Teenage List:',teenager)\n",
    "    print('Adult List:',adult)"
   ]
  },
  {
   "cell_type": "code",
   "execution_count": 46,
   "metadata": {},
   "outputs": [],
   "source": [
    "import numpy as np\n",
    "alpha = 'a'\n",
    "names = []\n",
    "for i in range(0,26):\n",
    "    names.append(alpha)\n",
    "#For Filling alphabets\n",
    "    alpha = chr(ord(alpha)+1)\n",
    "#For Filling numbers\n",
    "ages = np.random.randint(0,500,size = 26)\n",
    "new_data = dict(zip(names,ages))"
   ]
  },
  {
   "cell_type": "code",
   "execution_count": 47,
   "metadata": {},
   "outputs": [
    {
     "data": {
      "text/plain": [
       "{'a': 27,\n",
       " 'b': 127,\n",
       " 'c': 401,\n",
       " 'd': 438,\n",
       " 'e': 398,\n",
       " 'f': 449,\n",
       " 'g': 81,\n",
       " 'h': 357,\n",
       " 'i': 220,\n",
       " 'j': 181,\n",
       " 'k': 78,\n",
       " 'l': 434,\n",
       " 'm': 114,\n",
       " 'n': 401,\n",
       " 'o': 297,\n",
       " 'p': 80,\n",
       " 'q': 445,\n",
       " 'r': 136,\n",
       " 's': 243,\n",
       " 't': 199,\n",
       " 'u': 338,\n",
       " 'v': 472,\n",
       " 'w': 390,\n",
       " 'x': 278,\n",
       " 'y': 150,\n",
       " 'z': 344}"
      ]
     },
     "execution_count": 47,
     "metadata": {},
     "output_type": "execute_result"
    }
   ],
   "source": [
    "new_data"
   ]
  },
  {
   "cell_type": "code",
   "execution_count": 50,
   "metadata": {},
   "outputs": [
    {
     "name": "stdout",
     "output_type": "stream",
     "text": [
      "Child List: []\n",
      "Teenage List: []\n",
      "Adult List: [{'a': 27}, {'b': 127}, {'c': 401}, {'d': 438}, {'e': 398}, {'f': 449}, {'g': 81}, {'h': 357}, {'i': 220}, {'j': 181}, {'k': 78}, {'l': 434}, {'m': 114}, {'n': 401}, {'o': 297}, {'p': 80}, {'q': 445}, {'r': 136}, {'s': 243}, {'t': 199}, {'u': 338}, {'v': 472}, {'w': 390}, {'x': 278}, {'y': 150}, {'z': 344}]\n"
     ]
    }
   ],
   "source": [
    "categorize(new_data)"
   ]
  },
  {
   "cell_type": "code",
   "execution_count": null,
   "metadata": {},
   "outputs": [],
   "source": []
  }
 ],
 "metadata": {
  "kernelspec": {
   "display_name": "Python 3",
   "language": "python",
   "name": "python3"
  },
  "language_info": {
   "codemirror_mode": {
    "name": "ipython",
    "version": 3
   },
   "file_extension": ".py",
   "mimetype": "text/x-python",
   "name": "python",
   "nbconvert_exporter": "python",
   "pygments_lexer": "ipython3",
   "version": "3.6.8"
  },
  "toc": {
   "base_numbering": 1,
   "nav_menu": {},
   "number_sections": true,
   "sideBar": true,
   "skip_h1_title": false,
   "title_cell": "Table of Contents",
   "title_sidebar": "Contents",
   "toc_cell": false,
   "toc_position": {},
   "toc_section_display": true,
   "toc_window_display": false
  }
 },
 "nbformat": 4,
 "nbformat_minor": 2
}
