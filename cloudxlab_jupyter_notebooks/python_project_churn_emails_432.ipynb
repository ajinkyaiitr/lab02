{
 "cells": [
  {
   "cell_type": "code",
   "execution_count": 3,
   "metadata": {},
   "outputs": [
    {
     "data": {
      "text/plain": [
       "'0b10'"
      ]
     },
     "execution_count": 3,
     "metadata": {},
     "output_type": "execute_result"
    }
   ],
   "source": [
    "##Bitwise Operators\n",
    "a = 12\n",
    "b = 14\n",
    "a&b\n",
    "bin(a&b)\n",
    "a|b\n",
    "bin(a|b)\n",
    "\n",
    "a & b\n",
    "bin(a)\n",
    "bin(b)\n",
    "a & b\n",
    "bin(a&b)\n",
    "a|b\n",
    "bin(a|b)\n",
    "a^b\n",
    "bin(a^b)"
   ]
  },
  {
   "cell_type": "code",
   "execution_count": 9,
   "metadata": {},
   "outputs": [
    {
     "ename": "SyntaxError",
     "evalue": "'return' outside function (<ipython-input-9-23b08b95953e>, line 7)",
     "output_type": "error",
     "traceback": [
      "\u001b[0;36m  File \u001b[0;32m\"<ipython-input-9-23b08b95953e>\"\u001b[0;36m, line \u001b[0;32m7\u001b[0m\n\u001b[0;31m    return count\u001b[0m\n\u001b[0m    ^\u001b[0m\n\u001b[0;31mSyntaxError\u001b[0m\u001b[0;31m:\u001b[0m 'return' outside function\n"
     ]
    }
   ],
   "source": [
    "fhand = open('/cxldata/datasets/project/mbox-short.txt')\n",
    "count = 0\n",
    "for line in fhand:\n",
    "    line = line.rstrip() #Removes new line character from right\n",
    "    if line.startswith('Subject:'):\n",
    "        count = count + 1\n",
    "    return count\n",
    "count_number_of_lines()\n",
    "    "
   ]
  },
  {
   "cell_type": "code",
   "execution_count": 10,
   "metadata": {},
   "outputs": [],
   "source": [
    "def count_number_of_lines():\n",
    "    with open('/cxldata/datasets/project/mbox-short.txt') as f:\n",
    "        count = 0\n",
    "        for line in f:\n",
    "            line = line.rstrip() # Remove new line characters from right\n",
    "            if line.startswith('Subject:'):\n",
    "                count = count + 1\n",
    "    return count"
   ]
  },
  {
   "cell_type": "code",
   "execution_count": 1,
   "metadata": {},
   "outputs": [],
   "source": [
    "   def number_of_lines():\n",
    "    fhand = open('/cxldata/datasets/project/mbox-short.txt')\n",
    "    inp = fhand.read()\n",
    "    fhand.close()\n",
    "    count = 0\n",
    "    for c in inp:\n",
    "        if c == '\\n':\n",
    "            count += 1\n",
    "    return count"
   ]
  },
  {
   "cell_type": "code",
   "execution_count": null,
   "metadata": {},
   "outputs": [],
   "source": [
    "def average_spam_conidence():\n",
    "    with open('/cxldata/datasets/project/mbox-short.txt') as f:\n",
    "        count = 0\n",
    "        sparm_confidence_sum = 0\n",
    "        for line in f:\n",
    "            line = line.rstrip()\n",
    "            if line.startswith('X-DSPAM-Confidence:'):\n",
    "                var,value = line.split(':')\n",
    "                spam_confidence_sum "
   ]
  }
 ],
 "metadata": {
  "kernelspec": {
   "display_name": "Python 3",
   "language": "python",
   "name": "python3"
  },
  "language_info": {
   "codemirror_mode": {
    "name": "ipython",
    "version": 3
   },
   "file_extension": ".py",
   "mimetype": "text/x-python",
   "name": "python",
   "nbconvert_exporter": "python",
   "pygments_lexer": "ipython3",
   "version": "3.6.8"
  },
  "toc": {
   "base_numbering": 1,
   "nav_menu": {},
   "number_sections": true,
   "sideBar": true,
   "skip_h1_title": false,
   "title_cell": "Table of Contents",
   "title_sidebar": "Contents",
   "toc_cell": false,
   "toc_position": {},
   "toc_section_display": true,
   "toc_window_display": false
  }
 },
 "nbformat": 4,
 "nbformat_minor": 2
}
